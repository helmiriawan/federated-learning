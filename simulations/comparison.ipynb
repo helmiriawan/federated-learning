{
 "cells": [
  {
   "cell_type": "markdown",
   "metadata": {},
   "source": [
    "# Comparison Study"
   ]
  },
  {
   "cell_type": "code",
   "execution_count": 1,
   "metadata": {},
   "outputs": [],
   "source": [
    "%load_ext autoreload\n",
    "%autoreload 2"
   ]
  },
  {
   "cell_type": "code",
   "execution_count": 2,
   "metadata": {},
   "outputs": [],
   "source": [
    "import numpy as np\n",
    "import matplotlib.pyplot as plt\n",
    "import pandas as pd\n",
    "%matplotlib inline"
   ]
  },
  {
   "cell_type": "code",
   "execution_count": 3,
   "metadata": {},
   "outputs": [],
   "source": [
    "import sys\n",
    "sys.path.insert(0, '..')"
   ]
  },
  {
   "cell_type": "code",
   "execution_count": 4,
   "metadata": {},
   "outputs": [],
   "source": [
    "from data.frecency import sample, frecency_points\n",
    "from data.frecency import sample_suggestions_normal as sample_suggestions"
   ]
  },
  {
   "cell_type": "code",
   "execution_count": 5,
   "metadata": {},
   "outputs": [],
   "source": [
    "from optimizers import GradientDescent, AdaptiveGradientDescent, DecayedGradientDescent, RProp, Adam"
   ]
  },
  {
   "cell_type": "code",
   "execution_count": 6,
   "metadata": {},
   "outputs": [],
   "source": [
    "from utils import ModelCheckpoint"
   ]
  },
  {
   "cell_type": "markdown",
   "metadata": {},
   "source": [
    "## Pointwise ranking\n",
    "\n",
    "The task in this study is pointwise ranking. Each item will be given a score by the model, which will be used for ranking all items. Since the score is a real number, the model that is used in this study is a regression function. Hinge loss, or also known as SVM loss, is used in the model optimization."
   ]
  },
  {
   "cell_type": "code",
   "execution_count": 7,
   "metadata": {},
   "outputs": [],
   "source": [
    "def svm_loss(preds, ys, delta=0):\n",
    "    correct = ys.argmax()\n",
    "    score_correct = preds[correct]\n",
    "    \n",
    "    loss = 0\n",
    "    \n",
    "    for i, pred in enumerate(preds):\n",
    "        loss += max(0, pred + delta - score_correct)            \n",
    "            \n",
    "    return loss"
   ]
  },
  {
   "cell_type": "code",
   "execution_count": 8,
   "metadata": {},
   "outputs": [],
   "source": [
    "class SVMRanking:\n",
    "    def __init__(self, delta):\n",
    "        self.delta = delta\n",
    "        \n",
    "    def fit(self, data_generator, optimizer, num_iterations=10, constraints=[], callbacks=[]):\n",
    "        X, y = data_generator(2)\n",
    "        num_features = X[0].shape[1]\n",
    "        self.W = frecency_points + (np.random.random(size=(num_features)) - 0.5) * 100\n",
    "        self.loss = []\n",
    "        \n",
    "        for j in range(num_iterations):\n",
    "            X, y = data_generator(4000)\n",
    "            \n",
    "            preds = self.predict(X)\n",
    "            gradient = np.zeros(num_features)\n",
    "\n",
    "            for xi, pi, yi in zip(X, preds, y):\n",
    "                correct = yi.argmax()\n",
    "                score_correct = pi[correct]\n",
    "\n",
    "                for i, predicted_score in enumerate(pi):\n",
    "                    gradient -= xi[i] * max(0, predicted_score + self.delta - score_correct)\n",
    "            \n",
    "            gradient /= len(X)\n",
    "            \n",
    "            loss = np.mean([svm_loss(pi, yi) for pi, yi in zip(self.predict(X), y)])\n",
    "            accuracy = rank_accuracy(y, model.predict(X))\n",
    "            \n",
    "            print(\"[%d/%d] training: %.5f loss, %.3f accuracy\" % (j + 1, num_iterations, loss, accuracy))\n",
    "            \n",
    "            for callback in callbacks:\n",
    "                callback(self)\n",
    "            \n",
    "            self.W += optimizer(gradient)\n",
    "            self.loss.append(loss)\n",
    "            \n",
    "            for constraint in constraints:\n",
    "                self.W = constraint(self.W)\n",
    "            \n",
    "    def predict(self, X):\n",
    "        preds = []\n",
    "        \n",
    "        for x in X:\n",
    "            scores = x.dot(self.W)\n",
    "            preds.append(scores)\n",
    "        \n",
    "        return preds"
   ]
  },
  {
   "cell_type": "markdown",
   "metadata": {},
   "source": [
    "Two or more items can have the same score. However, there is only one correct answer. The correct answer should be the one that is used to evaluate the model."
   ]
  },
  {
   "cell_type": "code",
   "execution_count": 9,
   "metadata": {},
   "outputs": [],
   "source": [
    "def rank_accuracy(y, preds):\n",
    "    correct = 0.\n",
    "    \n",
    "    for yi, pi in zip(y, preds):\n",
    "        if yi[pi.argmax()] == yi.max():\n",
    "            correct += 1\n",
    "            \n",
    "    return correct / len(y)"
   ]
  },
  {
   "cell_type": "markdown",
   "metadata": {},
   "source": [
    "In this case study, the model parameter should be non-negative."
   ]
  },
  {
   "cell_type": "code",
   "execution_count": 10,
   "metadata": {},
   "outputs": [],
   "source": [
    "class FrecencyConstraints:\n",
    "    def __call__(self, gradient):\n",
    "        return gradient - min(0, gradient.min())"
   ]
  },
  {
   "cell_type": "markdown",
   "metadata": {},
   "source": [
    "## Training in single server setting\n",
    "\n",
    "Training a machine learning model can be performed in a single machine with high computational resource. It can be done by store all the data in one single place and then use the data to train the model."
   ]
  },
  {
   "cell_type": "code",
   "execution_count": 11,
   "metadata": {
    "scrolled": true
   },
   "outputs": [
    {
     "name": "stdout",
     "output_type": "stream",
     "text": [
      "[1/48] training: 3.80225 loss, 0.787 accuracy\n",
      "[ModelCheckpoint] New best model with 0.79670 validation accuracy\n",
      "[2/48] training: 1.60038 loss, 0.944 accuracy\n",
      "[ModelCheckpoint] New best model with 0.94620 validation accuracy\n",
      "[3/48] training: 0.77972 loss, 0.963 accuracy\n",
      "[ModelCheckpoint] New best model with 0.96370 validation accuracy\n",
      "[4/48] training: 0.63540 loss, 0.964 accuracy\n",
      "[ModelCheckpoint] New best model with 0.96460 validation accuracy\n",
      "[5/48] training: 0.35693 loss, 0.968 accuracy\n",
      "validation: 0.963 accuracy\n",
      "[6/48] training: 0.56707 loss, 0.967 accuracy\n",
      "validation: 0.963 accuracy\n",
      "[7/48] training: 0.39944 loss, 0.965 accuracy\n",
      "[ModelCheckpoint] New best model with 0.96570 validation accuracy\n",
      "[8/48] training: 0.33584 loss, 0.961 accuracy\n",
      "[ModelCheckpoint] New best model with 0.96870 validation accuracy\n",
      "[9/48] training: 0.40017 loss, 0.963 accuracy\n",
      "validation: 0.965 accuracy\n",
      "[10/48] training: 0.25135 loss, 0.967 accuracy\n",
      "validation: 0.966 accuracy\n",
      "[11/48] training: 0.14411 loss, 0.970 accuracy\n",
      "validation: 0.962 accuracy\n",
      "[12/48] training: 0.14909 loss, 0.962 accuracy\n",
      "validation: 0.965 accuracy\n",
      "[13/48] training: 0.15105 loss, 0.965 accuracy\n",
      "validation: 0.966 accuracy\n",
      "[14/48] training: 0.10008 loss, 0.969 accuracy\n",
      "validation: 0.965 accuracy\n",
      "[15/48] training: 0.12976 loss, 0.965 accuracy\n",
      "validation: 0.966 accuracy\n",
      "[16/48] training: 0.11980 loss, 0.970 accuracy\n",
      "validation: 0.966 accuracy\n",
      "[17/48] training: 0.09692 loss, 0.964 accuracy\n",
      "validation: 0.967 accuracy\n",
      "[18/48] training: 0.08039 loss, 0.966 accuracy\n",
      "validation: 0.965 accuracy\n",
      "[19/48] training: 0.09652 loss, 0.967 accuracy\n",
      "validation: 0.965 accuracy\n",
      "[20/48] training: 0.06384 loss, 0.965 accuracy\n",
      "validation: 0.968 accuracy\n",
      "[21/48] training: 0.05389 loss, 0.962 accuracy\n",
      "validation: 0.966 accuracy\n",
      "[22/48] training: 0.06603 loss, 0.964 accuracy\n",
      "validation: 0.963 accuracy\n",
      "[23/48] training: 0.04978 loss, 0.965 accuracy\n",
      "validation: 0.964 accuracy\n",
      "[24/48] training: 0.05702 loss, 0.961 accuracy\n",
      "validation: 0.965 accuracy\n",
      "[25/48] training: 0.03534 loss, 0.962 accuracy\n",
      "validation: 0.964 accuracy\n",
      "[26/48] training: 0.05088 loss, 0.965 accuracy\n",
      "validation: 0.966 accuracy\n",
      "[27/48] training: 0.04353 loss, 0.960 accuracy\n",
      "validation: 0.966 accuracy\n",
      "[28/48] training: 0.02919 loss, 0.965 accuracy\n",
      "validation: 0.964 accuracy\n",
      "[29/48] training: 0.04597 loss, 0.961 accuracy\n",
      "validation: 0.964 accuracy\n",
      "[30/48] training: 0.04546 loss, 0.965 accuracy\n",
      "validation: 0.965 accuracy\n",
      "[31/48] training: 0.05533 loss, 0.964 accuracy\n",
      "validation: 0.968 accuracy\n",
      "[32/48] training: 0.03115 loss, 0.962 accuracy\n",
      "validation: 0.965 accuracy\n",
      "[33/48] training: 0.02815 loss, 0.962 accuracy\n",
      "validation: 0.964 accuracy\n",
      "[34/48] training: 0.01073 loss, 0.969 accuracy\n",
      "validation: 0.963 accuracy\n",
      "[35/48] training: 0.00830 loss, 0.967 accuracy\n",
      "validation: 0.965 accuracy\n",
      "[36/48] training: 0.03234 loss, 0.966 accuracy\n",
      "validation: 0.962 accuracy\n",
      "[37/48] training: 0.02458 loss, 0.966 accuracy\n",
      "validation: 0.963 accuracy\n",
      "[38/48] training: 0.02474 loss, 0.967 accuracy\n",
      "validation: 0.965 accuracy\n",
      "[39/48] training: 0.01768 loss, 0.967 accuracy\n",
      "validation: 0.965 accuracy\n",
      "[40/48] training: 0.01838 loss, 0.966 accuracy\n",
      "validation: 0.966 accuracy\n",
      "[41/48] training: 0.03372 loss, 0.962 accuracy\n",
      "validation: 0.966 accuracy\n",
      "[42/48] training: 0.01719 loss, 0.963 accuracy\n",
      "validation: 0.967 accuracy\n",
      "[43/48] training: 0.00932 loss, 0.964 accuracy\n",
      "validation: 0.966 accuracy\n",
      "[44/48] training: 0.01877 loss, 0.963 accuracy\n",
      "validation: 0.966 accuracy\n",
      "[45/48] training: 0.01093 loss, 0.965 accuracy\n",
      "validation: 0.966 accuracy\n",
      "[46/48] training: 0.00770 loss, 0.963 accuracy\n",
      "validation: 0.964 accuracy\n",
      "[47/48] training: 0.01093 loss, 0.964 accuracy\n",
      "validation: 0.966 accuracy\n",
      "[48/48] training: 0.02531 loss, 0.963 accuracy\n",
      "validation: 0.967 accuracy\n"
     ]
    }
   ],
   "source": [
    "np.random.seed(0)\n",
    "model = SVMRanking(delta=0.)\n",
    "model.fit(data_generator=sample_suggestions,\n",
    "          optimizer=GradientDescent(30.),\n",
    "          num_iterations=48,\n",
    "          constraints=[FrecencyConstraints()],\n",
    "          callbacks=[ModelCheckpoint(rank_accuracy, sample_suggestions)])"
   ]
  },
  {
   "cell_type": "code",
   "execution_count": 12,
   "metadata": {},
   "outputs": [],
   "source": [
    "serverGD = model.loss"
   ]
  },
  {
   "cell_type": "markdown",
   "metadata": {},
   "source": [
    "After training, the learned model parameters can be compared with the true model parameters. Note that the model is evaluated by ranking the score of the items, not merely comparing the prediction and true score of the items."
   ]
  },
  {
   "cell_type": "code",
   "execution_count": 13,
   "metadata": {},
   "outputs": [
    {
     "data": {
      "text/plain": [
       "[(12.0, 0.5433364435759508),\n",
       " (14.0, 8.960230542150786),\n",
       " (20.0, 0.0),\n",
       " (36.0, 44.143611676215514),\n",
       " (42.0, 44.26611215786202),\n",
       " (60.0, 44.251088298246984),\n",
       " (60.0, 44.14356711929147),\n",
       " (70.0, 95.40041275067807),\n",
       " (84.0, 95.40041275067648),\n",
       " (98.0, 106.93412445398285),\n",
       " (100.0, 106.93412442389078),\n",
       " (120.0, 124.57658116682717),\n",
       " (140.0, 161.82421533629864),\n",
       " (140.0, 161.82421533629864),\n",
       " (200.0, 272.4958278078269)]"
      ]
     },
     "execution_count": 13,
     "metadata": {},
     "output_type": "execute_result"
    }
   ],
   "source": [
    "ais = np.argsort(frecency_points)\n",
    "zip(frecency_points[ais], model.W[ais])"
   ]
  },
  {
   "cell_type": "markdown",
   "metadata": {},
   "source": [
    "## Training in federated learning setting\n",
    "\n",
    "In several situations, sometimes the server is not allowed to keep the data. To tackle this issue, training a machine learning model can be performed using federated learning setting. In this setting, the data still can be kept in the clients while the training process is performed."
   ]
  },
  {
   "cell_type": "code",
   "execution_count": 14,
   "metadata": {},
   "outputs": [],
   "source": [
    "import random"
   ]
  },
  {
   "cell_type": "code",
   "execution_count": 15,
   "metadata": {},
   "outputs": [],
   "source": [
    "class Server:\n",
    "    def __init__(self, clients):\n",
    "        self.clients = clients\n",
    "        \n",
    "        num_features = len(frecency_points)\n",
    "        self.W = np.int32(frecency_points + (np.random.random(size=(num_features)) - 0.5) * 100)\n",
    "    \n",
    "    def fit(self, optimizer, num_iterations, num_clients_per_iteration, constraints=[], callbacks=[]):\n",
    "        \n",
    "        self.loss = []\n",
    "        for j in range(num_iterations):\n",
    "            clients = random.sample(self.clients, num_clients_per_iteration)\n",
    "            updates, losses = zip(*[client.request_update(self) for client in clients])\n",
    "            \n",
    "            gradient = np.mean(updates, axis=0)\n",
    "            loss = np.mean(losses, axis=0)\n",
    "            \n",
    "            print(\"[%d/%d] training loss across clients %.5f\" % (j + 1, num_iterations, loss))\n",
    "            \n",
    "            for callback in callbacks:\n",
    "                callback(self)\n",
    "            \n",
    "            self.W += np.int32(optimizer(gradient))\n",
    "            self.loss.append(loss)\n",
    "            \n",
    "            for constraint in constraints:\n",
    "                self.W = constraint(self.W)\n",
    "            \n",
    "    def predict(self, X):\n",
    "        preds = []\n",
    "        \n",
    "        for x in X:\n",
    "            scores = x.dot(self.W)\n",
    "            preds.append(scores)\n",
    "        \n",
    "        return preds"
   ]
  },
  {
   "cell_type": "code",
   "execution_count": 16,
   "metadata": {},
   "outputs": [],
   "source": [
    "class AnalyticalClient:\n",
    "    def __init__(self, data_generator, delta=0):\n",
    "        self.data_generator = data_generator\n",
    "        self.delta = 0\n",
    "    \n",
    "    def request_update(self, model):\n",
    "        X, y = self.data_generator()\n",
    "        preds = model.predict(X)\n",
    "        \n",
    "        num_features = X[0].shape[1]\n",
    "        gradient = np.zeros(num_features)\n",
    "        loss = 0\n",
    "\n",
    "        for xi, pi, yi in zip(X, preds, y):\n",
    "            correct = yi.argmax()\n",
    "            score_correct = pi[correct]\n",
    "\n",
    "            for i, predicted_score in enumerate(pi):\n",
    "                gradient -= xi[i] * max(0, predicted_score + self.delta - score_correct)\n",
    "            \n",
    "            loss += svm_loss(pi, yi)\n",
    "                \n",
    "        gradient /= len(X)\n",
    "        loss /= len(X)\n",
    "        \n",
    "        return gradient, loss"
   ]
  },
  {
   "cell_type": "markdown",
   "metadata": {},
   "source": [
    "In this experiment, 5000 clients are used to train the model."
   ]
  },
  {
   "cell_type": "code",
   "execution_count": 17,
   "metadata": {},
   "outputs": [],
   "source": [
    "clients = [AnalyticalClient(lambda: sample_suggestions(np.int32(np.random.exponential(.8)) + 2)) for _ in range(5000)]"
   ]
  },
  {
   "cell_type": "code",
   "execution_count": 18,
   "metadata": {
    "scrolled": true
   },
   "outputs": [
    {
     "name": "stdout",
     "output_type": "stream",
     "text": [
      "[1/48] training loss across clients 12.50804\n",
      "[ModelCheckpoint] New best model with 0.75240 validation accuracy\n",
      "[2/48] training loss across clients 54.66287\n",
      "validation: 0.591 accuracy\n",
      "[3/48] training loss across clients 89.68266\n",
      "[ModelCheckpoint] New best model with 0.82900 validation accuracy\n",
      "[4/48] training loss across clients 6.24904\n",
      "[ModelCheckpoint] New best model with 0.97820 validation accuracy\n",
      "[5/48] training loss across clients 5.24104\n",
      "validation: 0.975 accuracy\n",
      "[6/48] training loss across clients 2.98337\n",
      "[ModelCheckpoint] New best model with 0.97940 validation accuracy\n",
      "[7/48] training loss across clients 1.87258\n",
      "validation: 0.979 accuracy\n",
      "[8/48] training loss across clients 1.57953\n",
      "[ModelCheckpoint] New best model with 0.98100 validation accuracy\n",
      "[9/48] training loss across clients 4.44021\n",
      "validation: 0.979 accuracy\n",
      "[10/48] training loss across clients 3.73792\n",
      "validation: 0.979 accuracy\n",
      "[11/48] training loss across clients 1.19375\n",
      "[ModelCheckpoint] New best model with 0.98160 validation accuracy\n",
      "[12/48] training loss across clients 1.76146\n",
      "validation: 0.980 accuracy\n",
      "[13/48] training loss across clients 2.25171\n",
      "[ModelCheckpoint] New best model with 0.98540 validation accuracy\n",
      "[14/48] training loss across clients 1.12688\n",
      "validation: 0.977 accuracy\n",
      "[15/48] training loss across clients 1.52021\n",
      "validation: 0.982 accuracy\n",
      "[16/48] training loss across clients 0.87562\n",
      "validation: 0.981 accuracy\n",
      "[17/48] training loss across clients 0.77708\n",
      "validation: 0.980 accuracy\n",
      "[18/48] training loss across clients 0.84333\n",
      "validation: 0.980 accuracy\n",
      "[19/48] training loss across clients 0.33417\n",
      "validation: 0.976 accuracy\n",
      "[20/48] training loss across clients 0.35042\n",
      "validation: 0.980 accuracy\n",
      "[21/48] training loss across clients 0.59517\n",
      "validation: 0.979 accuracy\n",
      "[22/48] training loss across clients 0.84062\n",
      "validation: 0.981 accuracy\n",
      "[23/48] training loss across clients 0.52883\n",
      "validation: 0.980 accuracy\n",
      "[24/48] training loss across clients 0.64308\n",
      "validation: 0.981 accuracy\n",
      "[25/48] training loss across clients 0.48588\n",
      "validation: 0.981 accuracy\n",
      "[26/48] training loss across clients 0.54479\n",
      "validation: 0.982 accuracy\n",
      "[27/48] training loss across clients 0.16538\n",
      "validation: 0.981 accuracy\n",
      "[28/48] training loss across clients 0.42625\n",
      "validation: 0.981 accuracy\n",
      "[29/48] training loss across clients 0.42633\n",
      "validation: 0.983 accuracy\n",
      "[30/48] training loss across clients 0.21946\n",
      "validation: 0.985 accuracy\n",
      "[31/48] training loss across clients 0.18667\n",
      "validation: 0.981 accuracy\n",
      "[32/48] training loss across clients 0.27292\n",
      "validation: 0.981 accuracy\n",
      "[33/48] training loss across clients 0.12708\n",
      "validation: 0.981 accuracy\n",
      "[34/48] training loss across clients 0.10725\n",
      "validation: 0.981 accuracy\n",
      "[35/48] training loss across clients 0.19175\n",
      "validation: 0.981 accuracy\n",
      "[36/48] training loss across clients 0.11417\n",
      "validation: 0.975 accuracy\n",
      "[37/48] training loss across clients 0.11563\n",
      "validation: 0.981 accuracy\n",
      "[38/48] training loss across clients 0.06958\n",
      "validation: 0.982 accuracy\n",
      "[39/48] training loss across clients 0.13962\n",
      "validation: 0.982 accuracy\n",
      "[40/48] training loss across clients 0.29988\n",
      "validation: 0.982 accuracy\n",
      "[41/48] training loss across clients 0.06875\n",
      "validation: 0.981 accuracy\n",
      "[42/48] training loss across clients 0.08221\n",
      "validation: 0.977 accuracy\n",
      "[43/48] training loss across clients 0.18083\n",
      "validation: 0.981 accuracy\n",
      "[44/48] training loss across clients 0.06883\n",
      "validation: 0.982 accuracy\n",
      "[45/48] training loss across clients 0.14589\n",
      "validation: 0.982 accuracy\n",
      "[46/48] training loss across clients 0.12354\n",
      "validation: 0.980 accuracy\n",
      "[47/48] training loss across clients 0.10246\n",
      "validation: 0.978 accuracy\n",
      "[48/48] training loss across clients 0.04938\n",
      "validation: 0.980 accuracy\n"
     ]
    }
   ],
   "source": [
    "np.random.seed(10)\n",
    "server = Server(clients)\n",
    "server.fit(optimizer=GradientDescent(30.),\n",
    "          num_iterations=48,\n",
    "           num_clients_per_iteration=400,\n",
    "           constraints=[FrecencyConstraints()],\n",
    "          callbacks=[ModelCheckpoint(rank_accuracy, sample_suggestions, 5000)])"
   ]
  },
  {
   "cell_type": "code",
   "execution_count": 19,
   "metadata": {},
   "outputs": [],
   "source": [
    "federatedGD = server.loss"
   ]
  },
  {
   "cell_type": "code",
   "execution_count": 20,
   "metadata": {},
   "outputs": [
    {
     "data": {
      "text/plain": [
       "[(12.0, 0),\n",
       " (14.0, 151),\n",
       " (20.0, 149),\n",
       " (36.0, 144),\n",
       " (42.0, 564),\n",
       " (60.0, 561),\n",
       " (60.0, 567),\n",
       " (70.0, 775),\n",
       " (84.0, 826),\n",
       " (98.0, 856),\n",
       " (100.0, 855),\n",
       " (120.0, 967),\n",
       " (140.0, 1018),\n",
       " (140.0, 1018),\n",
       " (200.0, 1123)]"
      ]
     },
     "execution_count": 20,
     "metadata": {},
     "output_type": "execute_result"
    }
   ],
   "source": [
    "zip(frecency_points[ais], server.W[ais])"
   ]
  },
  {
   "cell_type": "markdown",
   "metadata": {},
   "source": [
    "## Training in federated learning setting using RProp\n",
    "\n",
    "RProp, or resilient backpropagation, is a learning method that ignores the magnitude of the gradient and only uses the sign of the gradient. The main motivation of RProp is to avoid experimenting different learning rates to train the model. In addition, it can also be used to reduce the size of the data that is sent from clients to the server. "
   ]
  },
  {
   "cell_type": "code",
   "execution_count": 21,
   "metadata": {
    "scrolled": true
   },
   "outputs": [
    {
     "name": "stdout",
     "output_type": "stream",
     "text": [
      "[1/48] training loss across clients 12.50804\n",
      "[ModelCheckpoint] New best model with 0.75240 validation accuracy\n",
      "[2/48] training loss across clients 13.21671\n",
      "[ModelCheckpoint] New best model with 0.75560 validation accuracy\n",
      "[3/48] training loss across clients 10.19690\n",
      "[ModelCheckpoint] New best model with 0.75900 validation accuracy\n",
      "[4/48] training loss across clients 8.77127\n",
      "[ModelCheckpoint] New best model with 0.79860 validation accuracy\n",
      "[5/48] training loss across clients 8.40608\n",
      "validation: 0.797 accuracy\n",
      "[6/48] training loss across clients 6.13325\n",
      "[ModelCheckpoint] New best model with 0.80240 validation accuracy\n",
      "[7/48] training loss across clients 5.91335\n",
      "validation: 0.799 accuracy\n",
      "[8/48] training loss across clients 5.21768\n",
      "[ModelCheckpoint] New best model with 0.86460 validation accuracy\n",
      "[9/48] training loss across clients 4.51546\n",
      "[ModelCheckpoint] New best model with 0.87060 validation accuracy\n",
      "[10/48] training loss across clients 4.57298\n",
      "validation: 0.869 accuracy\n",
      "[11/48] training loss across clients 3.27062\n",
      "validation: 0.868 accuracy\n",
      "[12/48] training loss across clients 2.92000\n",
      "[ModelCheckpoint] New best model with 0.87180 validation accuracy\n",
      "[13/48] training loss across clients 2.19942\n",
      "[ModelCheckpoint] New best model with 0.87400 validation accuracy\n",
      "[14/48] training loss across clients 1.15423\n",
      "[ModelCheckpoint] New best model with 0.90580 validation accuracy\n",
      "[15/48] training loss across clients 1.24329\n",
      "[ModelCheckpoint] New best model with 0.91460 validation accuracy\n",
      "[16/48] training loss across clients 1.07704\n",
      "[ModelCheckpoint] New best model with 0.93380 validation accuracy\n",
      "[17/48] training loss across clients 0.71725\n",
      "validation: 0.934 accuracy\n",
      "[18/48] training loss across clients 0.50917\n",
      "[ModelCheckpoint] New best model with 0.95640 validation accuracy\n",
      "[19/48] training loss across clients 0.65358\n",
      "validation: 0.955 accuracy\n",
      "[20/48] training loss across clients 0.67250\n",
      "validation: 0.953 accuracy\n",
      "[21/48] training loss across clients 0.59387\n",
      "validation: 0.951 accuracy\n",
      "[22/48] training loss across clients 0.40542\n",
      "validation: 0.951 accuracy\n",
      "[23/48] training loss across clients 0.34467\n",
      "[ModelCheckpoint] New best model with 0.95820 validation accuracy\n",
      "[24/48] training loss across clients 0.12733\n",
      "validation: 0.958 accuracy\n",
      "[25/48] training loss across clients 0.14521\n",
      "[ModelCheckpoint] New best model with 0.96160 validation accuracy\n",
      "[26/48] training loss across clients 0.05458\n",
      "validation: 0.959 accuracy\n",
      "[27/48] training loss across clients 0.20719\n",
      "validation: 0.869 accuracy\n",
      "[28/48] training loss across clients 0.01875\n",
      "[ModelCheckpoint] New best model with 1.00000 validation accuracy\n",
      "[29/48] training loss across clients 0.16475\n",
      "validation: 0.924 accuracy\n",
      "[30/48] training loss across clients 0.00000\n",
      "validation: 1.000 accuracy\n",
      "[31/48] training loss across clients 0.00000\n",
      "validation: 1.000 accuracy\n",
      "[32/48] training loss across clients 0.00000\n",
      "validation: 1.000 accuracy\n",
      "[33/48] training loss across clients 0.00000\n",
      "validation: 1.000 accuracy\n",
      "[34/48] training loss across clients 0.00000\n",
      "validation: 1.000 accuracy\n",
      "[35/48] training loss across clients 0.00000\n",
      "validation: 1.000 accuracy\n",
      "[36/48] training loss across clients 0.00000\n",
      "validation: 1.000 accuracy\n",
      "[37/48] training loss across clients 0.00000\n",
      "validation: 1.000 accuracy\n",
      "[38/48] training loss across clients 0.00000\n",
      "validation: 1.000 accuracy\n",
      "[39/48] training loss across clients 0.00000\n",
      "validation: 1.000 accuracy\n",
      "[40/48] training loss across clients 0.00000\n",
      "validation: 1.000 accuracy\n",
      "[41/48] training loss across clients 0.00000\n",
      "validation: 1.000 accuracy\n",
      "[42/48] training loss across clients 0.00000\n",
      "validation: 1.000 accuracy\n",
      "[43/48] training loss across clients 0.00000\n",
      "validation: 1.000 accuracy\n",
      "[44/48] training loss across clients 0.00000\n",
      "validation: 1.000 accuracy\n",
      "[45/48] training loss across clients 0.00000\n",
      "validation: 1.000 accuracy\n",
      "[46/48] training loss across clients 0.00000\n",
      "validation: 1.000 accuracy\n",
      "[47/48] training loss across clients 0.00000\n",
      "validation: 1.000 accuracy\n",
      "[48/48] training loss across clients 0.00000\n",
      "validation: 1.000 accuracy\n"
     ]
    }
   ],
   "source": [
    "np.random.seed(10)\n",
    "opt = opt = RProp(2., len(frecency_points), min_value=1, max_value=3, alpha=2., beta=0.6)\n",
    "server = Server(clients)\n",
    "server.fit(optimizer=opt,\n",
    "          num_iterations=48,\n",
    "           num_clients_per_iteration=400,\n",
    "           constraints=[FrecencyConstraints()],\n",
    "          callbacks=[ModelCheckpoint(rank_accuracy, sample_suggestions, 5000)])"
   ]
  },
  {
   "cell_type": "code",
   "execution_count": 22,
   "metadata": {},
   "outputs": [],
   "source": [
    "federatedRProp = server.loss"
   ]
  },
  {
   "cell_type": "code",
   "execution_count": 23,
   "metadata": {},
   "outputs": [
    {
     "data": {
      "text/plain": [
       "[(12.0, 0),\n",
       " (14.0, 22),\n",
       " (20.0, 24),\n",
       " (36.0, 26),\n",
       " (42.0, 37),\n",
       " (60.0, 98),\n",
       " (60.0, 98),\n",
       " (70.0, 104),\n",
       " (84.0, 105),\n",
       " (98.0, 107),\n",
       " (100.0, 109),\n",
       " (120.0, 140),\n",
       " (140.0, 142),\n",
       " (140.0, 142),\n",
       " (200.0, 203)]"
      ]
     },
     "execution_count": 23,
     "metadata": {},
     "output_type": "execute_result"
    }
   ],
   "source": [
    "zip(frecency_points[ais], server.W[ais])"
   ]
  },
  {
   "cell_type": "markdown",
   "metadata": {},
   "source": [
    "For comparison, we also try RProp in single server setting."
   ]
  },
  {
   "cell_type": "code",
   "execution_count": 24,
   "metadata": {
    "scrolled": true
   },
   "outputs": [
    {
     "name": "stdout",
     "output_type": "stream",
     "text": [
      "[1/48] training: 3.80225 loss, 0.787 accuracy\n",
      "[ModelCheckpoint] New best model with 0.79670 validation accuracy\n",
      "[2/48] training: 3.50662 loss, 0.802 accuracy\n",
      "[ModelCheckpoint] New best model with 0.80270 validation accuracy\n",
      "[3/48] training: 2.56823 loss, 0.892 accuracy\n",
      "[ModelCheckpoint] New best model with 0.89950 validation accuracy\n",
      "[4/48] training: 2.05177 loss, 0.918 accuracy\n",
      "[ModelCheckpoint] New best model with 0.91950 validation accuracy\n",
      "[5/48] training: 1.37913 loss, 0.919 accuracy\n",
      "validation: 0.914 accuracy\n",
      "[6/48] training: 1.35307 loss, 0.912 accuracy\n",
      "validation: 0.918 accuracy\n",
      "[7/48] training: 0.98318 loss, 0.976 accuracy\n",
      "[ModelCheckpoint] New best model with 0.97690 validation accuracy\n",
      "[8/48] training: 1.08884 loss, 0.973 accuracy\n",
      "[ModelCheckpoint] New best model with 0.97770 validation accuracy\n",
      "[9/48] training: 0.96941 loss, 0.978 accuracy\n",
      "validation: 0.976 accuracy\n",
      "[10/48] training: 0.82543 loss, 0.978 accuracy\n",
      "validation: 0.976 accuracy\n",
      "[11/48] training: 0.73172 loss, 0.975 accuracy\n",
      "validation: 0.973 accuracy\n",
      "[12/48] training: 0.67947 loss, 0.977 accuracy\n",
      "validation: 0.975 accuracy\n",
      "[13/48] training: 0.68620 loss, 0.974 accuracy\n",
      "validation: 0.977 accuracy\n",
      "[14/48] training: 0.47279 loss, 0.981 accuracy\n",
      "validation: 0.976 accuracy\n",
      "[15/48] training: 0.48518 loss, 0.976 accuracy\n",
      "validation: 0.975 accuracy\n",
      "[16/48] training: 0.46020 loss, 0.976 accuracy\n",
      "validation: 0.975 accuracy\n",
      "[17/48] training: 0.35200 loss, 0.976 accuracy\n",
      "[ModelCheckpoint] New best model with 0.97900 validation accuracy\n",
      "[18/48] training: 0.27137 loss, 0.982 accuracy\n",
      "validation: 0.976 accuracy\n",
      "[19/48] training: 0.21224 loss, 0.977 accuracy\n",
      "validation: 0.978 accuracy\n",
      "[20/48] training: 0.21128 loss, 0.979 accuracy\n",
      "validation: 0.979 accuracy\n",
      "[21/48] training: 0.09107 loss, 0.980 accuracy\n",
      "validation: 0.977 accuracy\n",
      "[22/48] training: 0.09837 loss, 0.992 accuracy\n",
      "[ModelCheckpoint] New best model with 0.99280 validation accuracy\n",
      "[23/48] training: 0.01064 loss, 0.999 accuracy\n",
      "[ModelCheckpoint] New best model with 0.99680 validation accuracy\n",
      "[24/48] training: 0.07126 loss, 0.999 accuracy\n",
      "[ModelCheckpoint] New best model with 0.99880 validation accuracy\n",
      "[25/48] training: 0.01361 loss, 1.000 accuracy\n",
      "validation: 0.999 accuracy\n",
      "[26/48] training: 0.08487 loss, 0.999 accuracy\n",
      "validation: 0.999 accuracy\n",
      "[27/48] training: 0.01606 loss, 0.997 accuracy\n",
      "validation: 0.998 accuracy\n",
      "[28/48] training: 0.08526 loss, 0.999 accuracy\n",
      "validation: 0.998 accuracy\n",
      "[29/48] training: 0.01095 loss, 0.998 accuracy\n",
      "validation: 0.998 accuracy\n",
      "[30/48] training: 0.07651 loss, 0.999 accuracy\n",
      "[ModelCheckpoint] New best model with 0.99910 validation accuracy\n",
      "[31/48] training: 0.01217 loss, 0.999 accuracy\n",
      "validation: 0.998 accuracy\n",
      "[32/48] training: 0.20546 loss, 0.911 accuracy\n",
      "validation: 0.917 accuracy\n",
      "[33/48] training: 0.03280 loss, 0.937 accuracy\n",
      "validation: 0.938 accuracy\n",
      "[34/48] training: 0.43807 loss, 0.875 accuracy\n",
      "validation: 0.877 accuracy\n",
      "[35/48] training: 0.04831 loss, 0.923 accuracy\n",
      "validation: 0.921 accuracy\n",
      "[36/48] training: 0.63000 loss, 0.768 accuracy\n",
      "validation: 0.756 accuracy\n",
      "[37/48] training: 0.08611 loss, 0.846 accuracy\n",
      "validation: 0.837 accuracy\n",
      "[38/48] training: 0.41507 loss, 0.768 accuracy\n",
      "validation: 0.774 accuracy\n",
      "[39/48] training: 0.04952 loss, 0.904 accuracy\n",
      "validation: 0.901 accuracy\n",
      "[40/48] training: 0.35916 loss, 0.850 accuracy\n",
      "validation: 0.848 accuracy\n",
      "[41/48] training: 0.05264 loss, 0.901 accuracy\n",
      "validation: 0.902 accuracy\n",
      "[42/48] training: 0.43277 loss, 0.829 accuracy\n",
      "validation: 0.838 accuracy\n",
      "[43/48] training: 0.04898 loss, 0.888 accuracy\n",
      "validation: 0.886 accuracy\n",
      "[44/48] training: 0.39695 loss, 0.840 accuracy\n",
      "validation: 0.839 accuracy\n",
      "[45/48] training: 0.05035 loss, 0.901 accuracy\n",
      "validation: 0.897 accuracy\n",
      "[46/48] training: 0.42075 loss, 0.833 accuracy\n",
      "validation: 0.830 accuracy\n",
      "[47/48] training: 0.05602 loss, 0.896 accuracy\n",
      "validation: 0.904 accuracy\n",
      "[48/48] training: 0.37848 loss, 0.838 accuracy\n",
      "validation: 0.854 accuracy\n"
     ]
    }
   ],
   "source": [
    "np.random.seed(0)\n",
    "opt = opt = RProp(2., len(frecency_points), min_value=1, max_value=3, alpha=2., beta=0.6)\n",
    "model = SVMRanking(delta=0.)\n",
    "model.fit(data_generator=sample_suggestions,\n",
    "          optimizer=opt,\n",
    "          num_iterations=48,\n",
    "          constraints=[FrecencyConstraints()],\n",
    "          callbacks=[ModelCheckpoint(rank_accuracy, sample_suggestions)])"
   ]
  },
  {
   "cell_type": "code",
   "execution_count": 25,
   "metadata": {},
   "outputs": [],
   "source": [
    "serverRProp = model.loss"
   ]
  },
  {
   "cell_type": "code",
   "execution_count": 26,
   "metadata": {},
   "outputs": [
    {
     "data": {
      "text/plain": [
       "[(12.0, 0.8841395490909747),\n",
       " (14.0, 1.964414843229335),\n",
       " (20.0, 0.0),\n",
       " (36.0, 2.5443888997861563),\n",
       " (42.0, 2.3030498667128256),\n",
       " (60.0, 3.0718100137430895),\n",
       " (60.0, 3.1435671192914683),\n",
       " (70.0, 108.81441964384018),\n",
       " (84.0, 111.79769150093125),\n",
       " (98.0, 111.73605317801935),\n",
       " (100.0, 113.88456966395219),\n",
       " (120.0, 114.57658116682717),\n",
       " (140.0, 114.3305922286066),\n",
       " (140.0, 114.82421533629864),\n",
       " (200.0, 287.4958278078268)]"
      ]
     },
     "execution_count": 26,
     "metadata": {},
     "output_type": "execute_result"
    }
   ],
   "source": [
    "zip(frecency_points[ais], model.W[ais])"
   ]
  },
  {
   "cell_type": "markdown",
   "metadata": {},
   "source": [
    "## Performance comparison\n",
    "\n",
    "Learning in different settings can affect the convergence rate of the training process. The higher the convergence rate, the fewer number of iterations are needed to achieve the target. In this study, we are interested in comparing the convergence rate of different settings."
   ]
  },
  {
   "cell_type": "code",
   "execution_count": 27,
   "metadata": {},
   "outputs": [],
   "source": [
    "loss = pd.DataFrame({\n",
    "    'Server_GD': serverGD,\n",
    "    'Server_RProp': serverRProp,\n",
    "    'Federated_GD': federatedGD,\n",
    "    'Federated_RProp': federatedRProp})"
   ]
  },
  {
   "cell_type": "code",
   "execution_count": 28,
   "metadata": {},
   "outputs": [
    {
     "data": {
      "image/png": "[encoded data removed]",
      "text/plain": [
       "<Figure size 432x288 with 1 Axes>"
      ]
     },
     "metadata": {},
     "output_type": "display_data"
    }
   ],
   "source": [
    "loss.plot.line()\n",
    "plt.ylabel('Loss')\n",
    "plt.xlabel('Iteration')\n",
    "plt.title('Loss of the Model Over Time')\n",
    "plt.xticks(np.arange(0, 50, step=5))\n",
    "plt.grid(True, linewidth=0.2);"
   ]
  }
 ],
 "metadata": {
  "kernelspec": {
   "display_name": "Python 2",
   "language": "python",
   "name": "python2"
  },
  "language_info": {
   "codemirror_mode": {
    "name": "ipython",
    "version": 2
   },
   "file_extension": ".py",
   "mimetype": "text/x-python",
   "name": "python",
   "nbconvert_exporter": "python",
   "pygments_lexer": "ipython2",
   "version": "2.7.15"
  }
 },
 "nbformat": 4,
 "nbformat_minor": 2
}
